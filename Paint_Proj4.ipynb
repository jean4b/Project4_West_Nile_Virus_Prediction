{
 "cells": [
  {
   "cell_type": "code",
   "execution_count": 1,
   "id": "2405ecf9-4363-46e0-9147-8d1c46f1e708",
   "metadata": {
    "tags": []
   },
   "outputs": [],
   "source": [
    "import matplotlib.pyplot as plt\n",
    "import numpy as np\n",
    "import pandas as pd\n",
    "import seaborn as sns\n",
    "import plotly.express as px\n",
    "import geopandas as gpd\n",
    "from geopandas import GeoDataFrame\n",
    "from shapely.geometry import Point\n",
    "\n",
    "\n",
    "plt.style.use('ggplot')\n",
    "import pyreadr\n",
    "from sklearn.cluster import KMeans, AgglomerativeClustering, DBSCAN\n",
    "from sklearn.preprocessing import StandardScaler\n",
    "from sklearn.metrics import silhouette_score\n",
    "\n",
    "import pandas as pd\n",
    "import numpy as np\n",
    "import matplotlib.pyplot as plt\n",
    "import seaborn as sns\n",
    "\n",
    "from sklearn.model_selection import train_test_split, GridSearchCV\n",
    "from sklearn.preprocessing import StandardScaler\n",
    "from sklearn.linear_model import LogisticRegression\n",
    "from sklearn.pipeline import Pipeline\n",
    "from sklearn.naive_bayes import MultinomialNB\n",
    "from sklearn.tree import DecisionTreeClassifier, plot_tree\n",
    "from sklearn.ensemble import RandomForestClassifier, ExtraTreesClassifier, BaggingClassifier\n",
    "\n",
    "from sklearn.metrics import confusion_matrix, ConfusionMatrixDisplay\n",
    "from sklearn.metrics import accuracy_score, recall_score, precision_score\n",
    "from sklearn.metrics import f1_score, classification_report, roc_auc_score, RocCurveDisplay\n",
    "from sklearn.neighbors import KNeighborsClassifier\n",
    "\n",
    "\n",
    "from tqdm import tqdm\n",
    "import re\n",
    "import tqdm"
   ]
  },
  {
   "cell_type": "code",
   "execution_count": 119,
   "id": "5e64537c-9e2f-477f-94f0-3795cbf8063e",
   "metadata": {
    "tags": []
   },
   "outputs": [],
   "source": [
    "traindf = pd.read_csv('dataset/train.csv')\n",
    "testdf = pd.read_csv('dataset/test.csv')\n",
    "weatherdf = pd.read_csv('dataset/weather.csv')"
   ]
  },
  {
   "cell_type": "code",
   "execution_count": 120,
   "id": "19eb067f-4513-4b57-a48e-9578cce99d0e",
   "metadata": {
    "tags": []
   },
   "outputs": [],
   "source": [
    "traindf['Date'] = pd.to_datetime(traindf['Date'])\n",
    "traindf.set_index('Date',inplace=True)\n",
    "\n",
    "weatherdf['Date'] = pd.to_datetime(weatherdf['Date'])\n",
    "weatherdf.set_index('Date', inplace=True)"
   ]
  },
  {
   "cell_type": "code",
   "execution_count": 121,
   "id": "adfeb379-cd69-42a0-a49a-b8ca2a48b1be",
   "metadata": {
    "tags": []
   },
   "outputs": [],
   "source": [
    "#merging train and weather data.\n",
    "train = traindf.join(weatherdf, how='left')\n",
    "train.replace('M',np.NaN,inplace=True)\n",
    "train.replace('-',np.NaN,inplace=True)\n",
    "train.replace('  T', 1,inplace=True)"
   ]
  },
  {
   "cell_type": "code",
   "execution_count": 122,
   "id": "3f0aed3f-34f5-479d-8858-fa312076a810",
   "metadata": {
    "tags": []
   },
   "outputs": [
    {
     "data": {
      "text/plain": [
       "Address                       0\n",
       "Species                       0\n",
       "Block                         0\n",
       "Street                        0\n",
       "Trap                          0\n",
       "AddressNumberAndStreet        0\n",
       "Latitude                      0\n",
       "Longitude                     0\n",
       "AddressAccuracy               0\n",
       "NumMosquitos                  0\n",
       "WnvPresent                    0\n",
       "Station                       0\n",
       "Tmax                          0\n",
       "Tmin                          0\n",
       "Tavg                          0\n",
       "Depart                    10506\n",
       "DewPoint                      0\n",
       "WetBulb                      93\n",
       "Heat                          0\n",
       "Cool                          0\n",
       "Sunrise                   10506\n",
       "Sunset                    10506\n",
       "CodeSum                       0\n",
       "Depth                     10506\n",
       "Water1                    21012\n",
       "SnowFall                  10506\n",
       "PrecipTotal                  46\n",
       "StnPressure                  93\n",
       "SeaLevel                      0\n",
       "ResultSpeed                   0\n",
       "ResultDir                     0\n",
       "AvgSpeed                      0\n",
       "dtype: int64"
      ]
     },
     "execution_count": 122,
     "metadata": {},
     "output_type": "execute_result"
    }
   ],
   "source": [
    "train.isna().sum()"
   ]
  },
  {
   "cell_type": "code",
   "execution_count": 123,
   "id": "39dfe46f-c290-42d6-9a29-7259bbc35ca4",
   "metadata": {
    "tags": []
   },
   "outputs": [],
   "source": [
    "train.drop(columns=['Depart','Sunrise','Sunset','Depth','Water1','SnowFall'],inplace=True)"
   ]
  },
  {
   "cell_type": "code",
   "execution_count": 124,
   "id": "8bc98569-4eb8-4e63-b77f-f4bfc0ff4138",
   "metadata": {
    "tags": []
   },
   "outputs": [
    {
     "data": {
      "text/plain": [
       "Address                    object\n",
       "Species                    object\n",
       "Block                       int64\n",
       "Street                     object\n",
       "Trap                       object\n",
       "AddressNumberAndStreet     object\n",
       "Latitude                  float64\n",
       "Longitude                 float64\n",
       "AddressAccuracy             int64\n",
       "NumMosquitos                int64\n",
       "WnvPresent                  int64\n",
       "Station                     int64\n",
       "Tmax                        int64\n",
       "Tmin                        int64\n",
       "Tavg                       object\n",
       "DewPoint                    int64\n",
       "WetBulb                    object\n",
       "Heat                       object\n",
       "Cool                       object\n",
       "CodeSum                    object\n",
       "PrecipTotal                object\n",
       "StnPressure                object\n",
       "SeaLevel                   object\n",
       "ResultSpeed               float64\n",
       "ResultDir                   int64\n",
       "AvgSpeed                   object\n",
       "dtype: object"
      ]
     },
     "execution_count": 124,
     "metadata": {},
     "output_type": "execute_result"
    }
   ],
   "source": [
    "train.dtypes"
   ]
  },
  {
   "cell_type": "code",
   "execution_count": 125,
   "id": "f0a0faa9-e257-4e3a-914b-9344916b4800",
   "metadata": {
    "tags": []
   },
   "outputs": [],
   "source": [
    "train.drop(columns=['Street','Trap','AddressNumberAndStreet','Latitude','Longitude',\n",
    "                    'Tavg','WetBulb','Cool','CodeSum','PrecipTotal','StnPressure','SeaLevel','ResultSpeed','AvgSpeed'],inplace=True)"
   ]
  },
  {
   "cell_type": "code",
   "execution_count": 126,
   "id": "d7588f41-3372-4389-a700-80efa40216f1",
   "metadata": {
    "tags": []
   },
   "outputs": [],
   "source": [
    "#train['PrecipTotal'].fillna(train['PrecipTotal'].mean(),inplace=True)"
   ]
  },
  {
   "cell_type": "code",
   "execution_count": 127,
   "id": "4c4e3f94-f634-4306-93b5-707ade7d158a",
   "metadata": {
    "tags": []
   },
   "outputs": [
    {
     "data": {
      "text/html": [
       "<div>\n",
       "<style scoped>\n",
       "    .dataframe tbody tr th:only-of-type {\n",
       "        vertical-align: middle;\n",
       "    }\n",
       "\n",
       "    .dataframe tbody tr th {\n",
       "        vertical-align: top;\n",
       "    }\n",
       "\n",
       "    .dataframe thead th {\n",
       "        text-align: right;\n",
       "    }\n",
       "</style>\n",
       "<table border=\"1\" class=\"dataframe\">\n",
       "  <thead>\n",
       "    <tr style=\"text-align: right;\">\n",
       "      <th></th>\n",
       "      <th>Address</th>\n",
       "      <th>Species</th>\n",
       "      <th>Block</th>\n",
       "      <th>AddressAccuracy</th>\n",
       "      <th>NumMosquitos</th>\n",
       "      <th>WnvPresent</th>\n",
       "      <th>Station</th>\n",
       "      <th>Tmax</th>\n",
       "      <th>Tmin</th>\n",
       "      <th>DewPoint</th>\n",
       "      <th>Heat</th>\n",
       "      <th>ResultDir</th>\n",
       "    </tr>\n",
       "    <tr>\n",
       "      <th>Date</th>\n",
       "      <th></th>\n",
       "      <th></th>\n",
       "      <th></th>\n",
       "      <th></th>\n",
       "      <th></th>\n",
       "      <th></th>\n",
       "      <th></th>\n",
       "      <th></th>\n",
       "      <th></th>\n",
       "      <th></th>\n",
       "      <th></th>\n",
       "      <th></th>\n",
       "    </tr>\n",
       "  </thead>\n",
       "  <tbody>\n",
       "    <tr>\n",
       "      <th>2007-05-29</th>\n",
       "      <td>4100 North Oak Park Avenue, Chicago, IL 60634,...</td>\n",
       "      <td>CULEX PIPIENS/RESTUANS</td>\n",
       "      <td>41</td>\n",
       "      <td>9</td>\n",
       "      <td>1</td>\n",
       "      <td>0</td>\n",
       "      <td>1</td>\n",
       "      <td>88</td>\n",
       "      <td>60</td>\n",
       "      <td>58</td>\n",
       "      <td>0</td>\n",
       "      <td>18</td>\n",
       "    </tr>\n",
       "    <tr>\n",
       "      <th>2007-05-29</th>\n",
       "      <td>4100 North Oak Park Avenue, Chicago, IL 60634,...</td>\n",
       "      <td>CULEX PIPIENS/RESTUANS</td>\n",
       "      <td>41</td>\n",
       "      <td>9</td>\n",
       "      <td>1</td>\n",
       "      <td>0</td>\n",
       "      <td>2</td>\n",
       "      <td>88</td>\n",
       "      <td>65</td>\n",
       "      <td>59</td>\n",
       "      <td>0</td>\n",
       "      <td>16</td>\n",
       "    </tr>\n",
       "    <tr>\n",
       "      <th>2007-05-29</th>\n",
       "      <td>4100 North Oak Park Avenue, Chicago, IL 60634,...</td>\n",
       "      <td>CULEX RESTUANS</td>\n",
       "      <td>41</td>\n",
       "      <td>9</td>\n",
       "      <td>1</td>\n",
       "      <td>0</td>\n",
       "      <td>1</td>\n",
       "      <td>88</td>\n",
       "      <td>60</td>\n",
       "      <td>58</td>\n",
       "      <td>0</td>\n",
       "      <td>18</td>\n",
       "    </tr>\n",
       "  </tbody>\n",
       "</table>\n",
       "</div>"
      ],
      "text/plain": [
       "                                                      Address  \\\n",
       "Date                                                            \n",
       "2007-05-29  4100 North Oak Park Avenue, Chicago, IL 60634,...   \n",
       "2007-05-29  4100 North Oak Park Avenue, Chicago, IL 60634,...   \n",
       "2007-05-29  4100 North Oak Park Avenue, Chicago, IL 60634,...   \n",
       "\n",
       "                           Species  Block  AddressAccuracy  NumMosquitos  \\\n",
       "Date                                                                       \n",
       "2007-05-29  CULEX PIPIENS/RESTUANS     41                9             1   \n",
       "2007-05-29  CULEX PIPIENS/RESTUANS     41                9             1   \n",
       "2007-05-29          CULEX RESTUANS     41                9             1   \n",
       "\n",
       "            WnvPresent  Station  Tmax  Tmin  DewPoint Heat  ResultDir  \n",
       "Date                                                                   \n",
       "2007-05-29           0        1    88    60        58    0         18  \n",
       "2007-05-29           0        2    88    65        59    0         16  \n",
       "2007-05-29           0        1    88    60        58    0         18  "
      ]
     },
     "execution_count": 127,
     "metadata": {},
     "output_type": "execute_result"
    }
   ],
   "source": [
    "train.head(3)"
   ]
  },
  {
   "cell_type": "code",
   "execution_count": 128,
   "id": "4daf4b2b-144a-45f0-89a7-a32350b04f43",
   "metadata": {
    "tags": []
   },
   "outputs": [
    {
     "data": {
      "text/plain": [
       "Date\n",
       "2007-05-29    4100 North Oak Park Avenue, Chicago, IL 60634,...\n",
       "Name: Address, dtype: object"
      ]
     },
     "execution_count": 128,
     "metadata": {},
     "output_type": "execute_result"
    }
   ],
   "source": [
    "train['Address'][:1]"
   ]
  },
  {
   "cell_type": "code",
   "execution_count": 129,
   "id": "586652be-3f5b-40b4-b6ac-f91c0622b5fc",
   "metadata": {
    "tags": []
   },
   "outputs": [
    {
     "data": {
      "text/plain": [
       "range(0, 21012)"
      ]
     },
     "execution_count": 129,
     "metadata": {},
     "output_type": "execute_result"
    }
   ],
   "source": [
    "range(len(train['Address']))"
   ]
  },
  {
   "cell_type": "code",
   "execution_count": 130,
   "id": "a5e8bf00-06ce-43c4-b195-e14828afe176",
   "metadata": {
    "tags": []
   },
   "outputs": [
    {
     "name": "stderr",
     "output_type": "stream",
     "text": [
      "/var/folders/yq/ln25zktd7l51hrfl56g5fvl00000gn/T/ipykernel_33570/272782363.py:4: SettingWithCopyWarning: \n",
      "A value is trying to be set on a copy of a slice from a DataFrame\n",
      "\n",
      "See the caveats in the documentation: https://pandas.pydata.org/pandas-docs/stable/user_guide/indexing.html#returning-a-view-versus-a-copy\n",
      "  train['Address'][i] = match.group(0)\n"
     ]
    }
   ],
   "source": [
    "for i in range(len(train['Address'])):\n",
    "    match = re.search(r\"\\b\\d{5}(?:[-\\s]\\d{4})?\\b\", train['Address'][i])\n",
    "    if match:\n",
    "        train['Address'][i] = match.group(0)"
   ]
  },
  {
   "cell_type": "code",
   "execution_count": 131,
   "id": "0caff2b5-3ba5-4208-a21a-403d78be35ee",
   "metadata": {
    "tags": []
   },
   "outputs": [
    {
     "data": {
      "text/plain": [
       "Date\n",
       "2007-05-29    60634\n",
       "2007-05-29    60634\n",
       "2007-05-29    60634\n",
       "2007-05-29    60634\n",
       "2007-05-29    60646\n",
       "              ...  \n",
       "2013-09-26    60622\n",
       "2013-09-26    60631\n",
       "2013-09-26    60631\n",
       "2013-09-26    60621\n",
       "2013-09-26    60621\n",
       "Name: Address, Length: 21012, dtype: object"
      ]
     },
     "execution_count": 131,
     "metadata": {},
     "output_type": "execute_result"
    }
   ],
   "source": [
    "train['Address']"
   ]
  },
  {
   "cell_type": "code",
   "execution_count": 132,
   "id": "fd0d3eeb-4c1a-469a-9e60-2406e249638a",
   "metadata": {
    "tags": []
   },
   "outputs": [
    {
     "data": {
      "text/plain": [
       "60666                                     1500\n",
       "60617                                     1468\n",
       "South Doty Avenue, Chicago, IL, USA       1084\n",
       "60634                                     1004\n",
       "60638                                      910\n",
       "                                          ... \n",
       "60615                                       40\n",
       "60827                                       34\n",
       "60647                                       34\n",
       "West 37th Place, Chicago, IL, USA           28\n",
       "South Wallace Street, Chicago, IL, USA      16\n",
       "Name: Address, Length: 62, dtype: int64"
      ]
     },
     "execution_count": 132,
     "metadata": {},
     "output_type": "execute_result"
    }
   ],
   "source": [
    "train['Address'].value_counts()"
   ]
  },
  {
   "cell_type": "code",
   "execution_count": 133,
   "id": "9a987929-571d-4855-8990-221bad9e2bfa",
   "metadata": {
    "tags": []
   },
   "outputs": [
    {
     "data": {
      "text/html": [
       "<div>\n",
       "<style scoped>\n",
       "    .dataframe tbody tr th:only-of-type {\n",
       "        vertical-align: middle;\n",
       "    }\n",
       "\n",
       "    .dataframe tbody tr th {\n",
       "        vertical-align: top;\n",
       "    }\n",
       "\n",
       "    .dataframe thead th {\n",
       "        text-align: right;\n",
       "    }\n",
       "</style>\n",
       "<table border=\"1\" class=\"dataframe\">\n",
       "  <thead>\n",
       "    <tr style=\"text-align: right;\">\n",
       "      <th></th>\n",
       "      <th>Address</th>\n",
       "      <th>Species</th>\n",
       "      <th>Block</th>\n",
       "      <th>AddressAccuracy</th>\n",
       "      <th>NumMosquitos</th>\n",
       "      <th>WnvPresent</th>\n",
       "      <th>Station</th>\n",
       "      <th>Tmax</th>\n",
       "      <th>Tmin</th>\n",
       "      <th>DewPoint</th>\n",
       "      <th>Heat</th>\n",
       "      <th>ResultDir</th>\n",
       "    </tr>\n",
       "    <tr>\n",
       "      <th>Date</th>\n",
       "      <th></th>\n",
       "      <th></th>\n",
       "      <th></th>\n",
       "      <th></th>\n",
       "      <th></th>\n",
       "      <th></th>\n",
       "      <th></th>\n",
       "      <th></th>\n",
       "      <th></th>\n",
       "      <th></th>\n",
       "      <th></th>\n",
       "      <th></th>\n",
       "    </tr>\n",
       "  </thead>\n",
       "  <tbody>\n",
       "    <tr>\n",
       "      <th>2007-05-29</th>\n",
       "      <td>60634</td>\n",
       "      <td>CULEX PIPIENS/RESTUANS</td>\n",
       "      <td>41</td>\n",
       "      <td>9</td>\n",
       "      <td>1</td>\n",
       "      <td>0</td>\n",
       "      <td>1</td>\n",
       "      <td>88</td>\n",
       "      <td>60</td>\n",
       "      <td>58</td>\n",
       "      <td>0</td>\n",
       "      <td>18</td>\n",
       "    </tr>\n",
       "    <tr>\n",
       "      <th>2007-05-29</th>\n",
       "      <td>60634</td>\n",
       "      <td>CULEX PIPIENS/RESTUANS</td>\n",
       "      <td>41</td>\n",
       "      <td>9</td>\n",
       "      <td>1</td>\n",
       "      <td>0</td>\n",
       "      <td>2</td>\n",
       "      <td>88</td>\n",
       "      <td>65</td>\n",
       "      <td>59</td>\n",
       "      <td>0</td>\n",
       "      <td>16</td>\n",
       "    </tr>\n",
       "    <tr>\n",
       "      <th>2007-05-29</th>\n",
       "      <td>60634</td>\n",
       "      <td>CULEX RESTUANS</td>\n",
       "      <td>41</td>\n",
       "      <td>9</td>\n",
       "      <td>1</td>\n",
       "      <td>0</td>\n",
       "      <td>1</td>\n",
       "      <td>88</td>\n",
       "      <td>60</td>\n",
       "      <td>58</td>\n",
       "      <td>0</td>\n",
       "      <td>18</td>\n",
       "    </tr>\n",
       "  </tbody>\n",
       "</table>\n",
       "</div>"
      ],
      "text/plain": [
       "           Address                 Species  Block  AddressAccuracy  \\\n",
       "Date                                                                 \n",
       "2007-05-29   60634  CULEX PIPIENS/RESTUANS     41                9   \n",
       "2007-05-29   60634  CULEX PIPIENS/RESTUANS     41                9   \n",
       "2007-05-29   60634          CULEX RESTUANS     41                9   \n",
       "\n",
       "            NumMosquitos  WnvPresent  Station  Tmax  Tmin  DewPoint Heat  \\\n",
       "Date                                                                       \n",
       "2007-05-29             1           0        1    88    60        58    0   \n",
       "2007-05-29             1           0        2    88    65        59    0   \n",
       "2007-05-29             1           0        1    88    60        58    0   \n",
       "\n",
       "            ResultDir  \n",
       "Date                   \n",
       "2007-05-29         18  \n",
       "2007-05-29         16  \n",
       "2007-05-29         18  "
      ]
     },
     "execution_count": 133,
     "metadata": {},
     "output_type": "execute_result"
    }
   ],
   "source": [
    "train.head(3)"
   ]
  },
  {
   "cell_type": "code",
   "execution_count": 134,
   "id": "b94ebd97-9a85-4160-ad92-3b247d9db224",
   "metadata": {
    "tags": []
   },
   "outputs": [],
   "source": [
    "#Dummify\n",
    "expected_dummy_features = ['Species','Address'] #dummify features\n",
    "train = pd.get_dummies(train,columns=expected_dummy_features, drop_first=True)"
   ]
  },
  {
   "cell_type": "code",
   "execution_count": 135,
   "id": "6e646142-bdba-45b5-ac8a-43029e8304e6",
   "metadata": {
    "tags": []
   },
   "outputs": [
    {
     "data": {
      "text/plain": [
       "array([41, 62, 79, 15, 25, 11, 21, 22, 17, 53, 65, 75, 89, 91, 36, 72, 38,\n",
       "       49, 58, 50, 14, 10, 42, 40, 43, 28, 18, 70, 35, 93, 37, 45, 46, 60,\n",
       "       61, 27, 68, 30, 96, 64, 12, 20, 33, 52, 67, 73, 39, 47, 55, 71, 77,\n",
       "       63, 13, 81, 24, 80, 82, 98, 66, 48, 51, 90, 29, 34])"
      ]
     },
     "execution_count": 135,
     "metadata": {},
     "output_type": "execute_result"
    }
   ],
   "source": [
    "train['Block'].unique()"
   ]
  },
  {
   "cell_type": "code",
   "execution_count": 136,
   "id": "8029a1a5-a7b4-4413-88de-609bc1256289",
   "metadata": {
    "tags": []
   },
   "outputs": [
    {
     "data": {
      "text/plain": [
       "array([9, 8, 5, 3])"
      ]
     },
     "execution_count": 136,
     "metadata": {},
     "output_type": "execute_result"
    }
   ],
   "source": [
    "train['AddressAccuracy'].unique()"
   ]
  },
  {
   "cell_type": "code",
   "execution_count": 137,
   "id": "6aa5a1ac-2680-4a5e-9633-d6417b3cfa85",
   "metadata": {
    "tags": []
   },
   "outputs": [
    {
     "data": {
      "text/plain": [
       "array([ 1,  4,  2,  3,  5,  9,  7, 10,  8,  6, 19, 20, 25, 16, 11, 12, 28,\n",
       "       18, 50, 35, 14, 22, 21, 37, 27, 13, 39, 29, 15, 17, 34, 26, 32, 47,\n",
       "       44, 23, 46, 48, 42, 33, 45, 24, 41, 38, 40, 36, 43, 49, 30, 31])"
      ]
     },
     "execution_count": 137,
     "metadata": {},
     "output_type": "execute_result"
    }
   ],
   "source": [
    "train['NumMosquitos'].unique()"
   ]
  },
  {
   "cell_type": "code",
   "execution_count": 138,
   "id": "da27f2f9-bb22-4039-898f-02363886abe9",
   "metadata": {
    "tags": []
   },
   "outputs": [
    {
     "data": {
      "text/plain": [
       "array([0, 1])"
      ]
     },
     "execution_count": 138,
     "metadata": {},
     "output_type": "execute_result"
    }
   ],
   "source": [
    "train['WnvPresent'].unique()"
   ]
  },
  {
   "cell_type": "code",
   "execution_count": 139,
   "id": "ba4c9ea1-42ac-46a7-b5df-4dcba2b0519a",
   "metadata": {
    "tags": []
   },
   "outputs": [
    {
     "data": {
      "text/plain": [
       "array([1, 2])"
      ]
     },
     "execution_count": 139,
     "metadata": {},
     "output_type": "execute_result"
    }
   ],
   "source": [
    "train['Station'].unique()"
   ]
  },
  {
   "cell_type": "code",
   "execution_count": 140,
   "id": "33e63228-1ae6-4a70-9ff3-bfa239bf0dd4",
   "metadata": {
    "tags": []
   },
   "outputs": [
    {
     "data": {
      "text/plain": [
       "array([88, 64, 63, 92, 91, 70, 71, 79, 77, 85, 83, 82, 90, 87, 84, 80, 81,\n",
       "       89, 67, 66, 76, 62, 60, 61, 74, 72, 86, 78, 75, 59, 69, 68, 93, 94,\n",
       "       58, 57, 96, 97])"
      ]
     },
     "execution_count": 140,
     "metadata": {},
     "output_type": "execute_result"
    }
   ],
   "source": [
    "train['Tmax'].unique()"
   ]
  },
  {
   "cell_type": "code",
   "execution_count": 141,
   "id": "97e5d8f7-a662-4152-96b3-fe9f3ad21203",
   "metadata": {
    "tags": []
   },
   "outputs": [
    {
     "data": {
      "text/plain": [
       "array([60, 65, 47, 51, 70, 73, 56, 53, 58, 62, 63, 69, 71, 72, 74, 67, 66,\n",
       "       46, 68, 49, 50, 54, 55, 48, 43, 44, 57, 61, 64, 59, 41, 76, 79, 45,\n",
       "       52, 75])"
      ]
     },
     "execution_count": 141,
     "metadata": {},
     "output_type": "execute_result"
    }
   ],
   "source": [
    "train['Tmin'].unique()"
   ]
  },
  {
   "cell_type": "code",
   "execution_count": 142,
   "id": "bbe29258-18f2-4084-9cb3-a4ec1e1d02ed",
   "metadata": {
    "tags": []
   },
   "outputs": [
    {
     "data": {
      "text/plain": [
       "array([58, 59, 48, 47, 69, 55, 56, 50, 51, 68, 63, 62, 61, 60, 67, 66, 73,\n",
       "       71, 72, 64, 65, 54, 70, 42, 43, 57, 44, 46, 39, 40, 49, 52, 38, 41,\n",
       "       45, 53])"
      ]
     },
     "execution_count": 142,
     "metadata": {},
     "output_type": "execute_result"
    }
   ],
   "source": [
    "train['DewPoint'].unique()"
   ]
  },
  {
   "cell_type": "code",
   "execution_count": 143,
   "id": "405c7b12-1e32-43b6-bfd8-df907465488a",
   "metadata": {
    "tags": []
   },
   "outputs": [
    {
     "data": {
      "text/plain": [
       "array(['0', '9', '8', '2', '1', '7', '5', '11', '13', '3', '4', '15',\n",
       "       '10', '14', '12'], dtype=object)"
      ]
     },
     "execution_count": 143,
     "metadata": {},
     "output_type": "execute_result"
    }
   ],
   "source": [
    "train['Heat'].unique()"
   ]
  },
  {
   "cell_type": "code",
   "execution_count": 144,
   "id": "a086348f-51dc-4948-a3f3-26bc1bca9351",
   "metadata": {
    "tags": []
   },
   "outputs": [],
   "source": [
    "train['Heat'] = train['Heat'].astype(int)"
   ]
  },
  {
   "cell_type": "code",
   "execution_count": 145,
   "id": "60588c8f-f6fa-4558-a461-07b8cb00d9b2",
   "metadata": {
    "tags": []
   },
   "outputs": [
    {
     "data": {
      "text/plain": [
       "array([ 0,  9,  8,  2,  1,  7,  5, 11, 13,  3,  4, 15, 10, 14, 12])"
      ]
     },
     "execution_count": 145,
     "metadata": {},
     "output_type": "execute_result"
    }
   ],
   "source": [
    "train['Heat'].unique()"
   ]
  },
  {
   "cell_type": "code",
   "execution_count": 146,
   "id": "818cb5a0-8da8-4f1d-8179-665e80243caa",
   "metadata": {
    "tags": []
   },
   "outputs": [
    {
     "data": {
      "text/plain": [
       "array([18, 16,  5,  3, 22, 21,  2, 14, 12, 30, 24,  1, 36, 25, 23,  9, 13,\n",
       "       26,  6,  4, 29, 27,  7, 32, 31, 17, 20, 19, 28, 11, 15,  8, 33, 10,\n",
       "       35, 34])"
      ]
     },
     "execution_count": 146,
     "metadata": {},
     "output_type": "execute_result"
    }
   ],
   "source": [
    "train['ResultDir'].unique()"
   ]
  },
  {
   "cell_type": "code",
   "execution_count": 147,
   "id": "037dde3c-540f-47ad-b3a7-4ace627c069a",
   "metadata": {
    "tags": []
   },
   "outputs": [
    {
     "data": {
      "text/plain": [
       "Block                                                int64\n",
       "AddressAccuracy                                      int64\n",
       "NumMosquitos                                         int64\n",
       "WnvPresent                                           int64\n",
       "Station                                              int64\n",
       "                                                     ...  \n",
       "Address_South Torrence Avenue, Chicago, IL, USA      uint8\n",
       "Address_South Vincennes Avenue, Chicago, IL, USA     uint8\n",
       "Address_South Wallace Street, Chicago, IL, USA       uint8\n",
       "Address_West 37th Place, Chicago, IL, USA            uint8\n",
       "Address_West Garfield Boulevard, Chicago, IL, USA    uint8\n",
       "Length: 77, dtype: object"
      ]
     },
     "execution_count": 147,
     "metadata": {},
     "output_type": "execute_result"
    }
   ],
   "source": [
    "train.dtypes"
   ]
  },
  {
   "cell_type": "code",
   "execution_count": 148,
   "id": "4622932f-c912-42b1-95b2-fd7c38a7f583",
   "metadata": {
    "tags": []
   },
   "outputs": [],
   "source": [
    "Features = [col for col in train._get_numeric_data().columns if col not in ['WnvPresent','NumMosquitos']]"
   ]
  },
  {
   "cell_type": "code",
   "execution_count": 149,
   "id": "db61e7f0-e823-4220-be43-5b51533db2fe",
   "metadata": {
    "tags": []
   },
   "outputs": [
    {
     "data": {
      "text/plain": [
       "['Block',\n",
       " 'AddressAccuracy',\n",
       " 'Station',\n",
       " 'Tmax',\n",
       " 'Tmin',\n",
       " 'DewPoint',\n",
       " 'Heat',\n",
       " 'ResultDir',\n",
       " 'Species_CULEX PIPIENS',\n",
       " 'Species_CULEX PIPIENS/RESTUANS',\n",
       " 'Species_CULEX RESTUANS',\n",
       " 'Species_CULEX SALINARIUS',\n",
       " 'Species_CULEX TARSALIS',\n",
       " 'Species_CULEX TERRITANS',\n",
       " 'Address_60106',\n",
       " 'Address_60605',\n",
       " 'Address_60607',\n",
       " 'Address_60608',\n",
       " 'Address_60609',\n",
       " 'Address_60611',\n",
       " 'Address_60612',\n",
       " 'Address_60613',\n",
       " 'Address_60614',\n",
       " 'Address_60615',\n",
       " 'Address_60617',\n",
       " 'Address_60618',\n",
       " 'Address_60619',\n",
       " 'Address_60620',\n",
       " 'Address_60621',\n",
       " 'Address_60622',\n",
       " 'Address_60623',\n",
       " 'Address_60625',\n",
       " 'Address_60626',\n",
       " 'Address_60628',\n",
       " 'Address_60629',\n",
       " 'Address_60630',\n",
       " 'Address_60631',\n",
       " 'Address_60632',\n",
       " 'Address_60633',\n",
       " 'Address_60634',\n",
       " 'Address_60636',\n",
       " 'Address_60637',\n",
       " 'Address_60638',\n",
       " 'Address_60639',\n",
       " 'Address_60640',\n",
       " 'Address_60641',\n",
       " 'Address_60642',\n",
       " 'Address_60643',\n",
       " 'Address_60645',\n",
       " 'Address_60646',\n",
       " 'Address_60647',\n",
       " 'Address_60649',\n",
       " 'Address_60651',\n",
       " 'Address_60652',\n",
       " 'Address_60654',\n",
       " 'Address_60655',\n",
       " 'Address_60656',\n",
       " 'Address_60659',\n",
       " 'Address_60660',\n",
       " 'Address_60666',\n",
       " 'Address_60707',\n",
       " 'Address_60803',\n",
       " 'Address_60827',\n",
       " 'Address_6400 West Strong Street, Chicago, IL, USA',\n",
       " 'Address_Chicago, IL, USA',\n",
       " 'Address_East 91st Place, Chicago, IL, USA',\n",
       " 'Address_East 91st Street, Chicago, IL, USA',\n",
       " 'Address_South Cottage Grove Avenue, Chicago, IL, USA',\n",
       " 'Address_South Doty Avenue, Chicago, IL, USA',\n",
       " 'Address_South Stony Island Avenue, Chicago, IL, USA',\n",
       " 'Address_South Torrence Avenue, Chicago, IL, USA',\n",
       " 'Address_South Vincennes Avenue, Chicago, IL, USA',\n",
       " 'Address_South Wallace Street, Chicago, IL, USA',\n",
       " 'Address_West 37th Place, Chicago, IL, USA',\n",
       " 'Address_West Garfield Boulevard, Chicago, IL, USA']"
      ]
     },
     "execution_count": 149,
     "metadata": {},
     "output_type": "execute_result"
    }
   ],
   "source": [
    "Features"
   ]
  },
  {
   "cell_type": "code",
   "execution_count": 150,
   "id": "1f2cec82-231c-40e0-967d-8d90236ea205",
   "metadata": {
    "tags": []
   },
   "outputs": [],
   "source": [
    "X = train[Features] #Define X as text\n",
    "y = train['WnvPresent']"
   ]
  },
  {
   "cell_type": "code",
   "execution_count": 151,
   "id": "d0bc8d4b-ff41-4ee5-85e4-3518ac863118",
   "metadata": {
    "tags": []
   },
   "outputs": [],
   "source": [
    "#Split train and validation data to 67% and 33%\n",
    "X_train, X_valid, y_train, y_valid = train_test_split(X,y,\n",
    "                                                    test_size=0.33,\n",
    "                                                    stratify=y,)"
   ]
  },
  {
   "cell_type": "code",
   "execution_count": 152,
   "id": "94d0282e-2da6-4707-aacf-36fedd5cc017",
   "metadata": {
    "tags": []
   },
   "outputs": [],
   "source": [
    "lr = LogisticRegression(max_iter=3000)"
   ]
  },
  {
   "cell_type": "code",
   "execution_count": 153,
   "id": "79ecc607-4a88-4b97-b0c4-96798bef75fd",
   "metadata": {
    "tags": []
   },
   "outputs": [
    {
     "data": {
      "text/html": [
       "<style>#sk-container-id-3 {color: black;}#sk-container-id-3 pre{padding: 0;}#sk-container-id-3 div.sk-toggleable {background-color: white;}#sk-container-id-3 label.sk-toggleable__label {cursor: pointer;display: block;width: 100%;margin-bottom: 0;padding: 0.3em;box-sizing: border-box;text-align: center;}#sk-container-id-3 label.sk-toggleable__label-arrow:before {content: \"▸\";float: left;margin-right: 0.25em;color: #696969;}#sk-container-id-3 label.sk-toggleable__label-arrow:hover:before {color: black;}#sk-container-id-3 div.sk-estimator:hover label.sk-toggleable__label-arrow:before {color: black;}#sk-container-id-3 div.sk-toggleable__content {max-height: 0;max-width: 0;overflow: hidden;text-align: left;background-color: #f0f8ff;}#sk-container-id-3 div.sk-toggleable__content pre {margin: 0.2em;color: black;border-radius: 0.25em;background-color: #f0f8ff;}#sk-container-id-3 input.sk-toggleable__control:checked~div.sk-toggleable__content {max-height: 200px;max-width: 100%;overflow: auto;}#sk-container-id-3 input.sk-toggleable__control:checked~label.sk-toggleable__label-arrow:before {content: \"▾\";}#sk-container-id-3 div.sk-estimator input.sk-toggleable__control:checked~label.sk-toggleable__label {background-color: #d4ebff;}#sk-container-id-3 div.sk-label input.sk-toggleable__control:checked~label.sk-toggleable__label {background-color: #d4ebff;}#sk-container-id-3 input.sk-hidden--visually {border: 0;clip: rect(1px 1px 1px 1px);clip: rect(1px, 1px, 1px, 1px);height: 1px;margin: -1px;overflow: hidden;padding: 0;position: absolute;width: 1px;}#sk-container-id-3 div.sk-estimator {font-family: monospace;background-color: #f0f8ff;border: 1px dotted black;border-radius: 0.25em;box-sizing: border-box;margin-bottom: 0.5em;}#sk-container-id-3 div.sk-estimator:hover {background-color: #d4ebff;}#sk-container-id-3 div.sk-parallel-item::after {content: \"\";width: 100%;border-bottom: 1px solid gray;flex-grow: 1;}#sk-container-id-3 div.sk-label:hover label.sk-toggleable__label {background-color: #d4ebff;}#sk-container-id-3 div.sk-serial::before {content: \"\";position: absolute;border-left: 1px solid gray;box-sizing: border-box;top: 0;bottom: 0;left: 50%;z-index: 0;}#sk-container-id-3 div.sk-serial {display: flex;flex-direction: column;align-items: center;background-color: white;padding-right: 0.2em;padding-left: 0.2em;position: relative;}#sk-container-id-3 div.sk-item {position: relative;z-index: 1;}#sk-container-id-3 div.sk-parallel {display: flex;align-items: stretch;justify-content: center;background-color: white;position: relative;}#sk-container-id-3 div.sk-item::before, #sk-container-id-3 div.sk-parallel-item::before {content: \"\";position: absolute;border-left: 1px solid gray;box-sizing: border-box;top: 0;bottom: 0;left: 50%;z-index: -1;}#sk-container-id-3 div.sk-parallel-item {display: flex;flex-direction: column;z-index: 1;position: relative;background-color: white;}#sk-container-id-3 div.sk-parallel-item:first-child::after {align-self: flex-end;width: 50%;}#sk-container-id-3 div.sk-parallel-item:last-child::after {align-self: flex-start;width: 50%;}#sk-container-id-3 div.sk-parallel-item:only-child::after {width: 0;}#sk-container-id-3 div.sk-dashed-wrapped {border: 1px dashed gray;margin: 0 0.4em 0.5em 0.4em;box-sizing: border-box;padding-bottom: 0.4em;background-color: white;}#sk-container-id-3 div.sk-label label {font-family: monospace;font-weight: bold;display: inline-block;line-height: 1.2em;}#sk-container-id-3 div.sk-label-container {text-align: center;}#sk-container-id-3 div.sk-container {/* jupyter's `normalize.less` sets `[hidden] { display: none; }` but bootstrap.min.css set `[hidden] { display: none !important; }` so we also need the `!important` here to be able to override the default hidden behavior on the sphinx rendered scikit-learn.org. See: https://github.com/scikit-learn/scikit-learn/issues/21755 */display: inline-block !important;position: relative;}#sk-container-id-3 div.sk-text-repr-fallback {display: none;}</style><div id=\"sk-container-id-3\" class=\"sk-top-container\"><div class=\"sk-text-repr-fallback\"><pre>LogisticRegression(max_iter=3000)</pre><b>In a Jupyter environment, please rerun this cell to show the HTML representation or trust the notebook. <br />On GitHub, the HTML representation is unable to render, please try loading this page with nbviewer.org.</b></div><div class=\"sk-container\" hidden><div class=\"sk-item\"><div class=\"sk-estimator sk-toggleable\"><input class=\"sk-toggleable__control sk-hidden--visually\" id=\"sk-estimator-id-3\" type=\"checkbox\" checked><label for=\"sk-estimator-id-3\" class=\"sk-toggleable__label sk-toggleable__label-arrow\">LogisticRegression</label><div class=\"sk-toggleable__content\"><pre>LogisticRegression(max_iter=3000)</pre></div></div></div></div></div>"
      ],
      "text/plain": [
       "LogisticRegression(max_iter=3000)"
      ]
     },
     "execution_count": 153,
     "metadata": {},
     "output_type": "execute_result"
    }
   ],
   "source": [
    "lr.fit(X_train,y_train)"
   ]
  },
  {
   "cell_type": "code",
   "execution_count": 154,
   "id": "46f2ed98-62ff-4baa-ac58-36d11b31162a",
   "metadata": {
    "tags": []
   },
   "outputs": [
    {
     "data": {
      "text/plain": [
       "0.9475777809347918"
      ]
     },
     "execution_count": 154,
     "metadata": {},
     "output_type": "execute_result"
    }
   ],
   "source": [
    "lr.score(X_train,y_train)"
   ]
  },
  {
   "cell_type": "code",
   "execution_count": 155,
   "id": "2b0695c0-8b8c-4e32-82f9-4f018ed978d3",
   "metadata": {
    "tags": []
   },
   "outputs": [
    {
     "data": {
      "text/plain": [
       "0.9475050475915777"
      ]
     },
     "execution_count": 155,
     "metadata": {},
     "output_type": "execute_result"
    }
   ],
   "source": [
    "lr.score(X_valid,y_valid)"
   ]
  },
  {
   "cell_type": "code",
   "execution_count": 156,
   "id": "9ef842cf-142d-4053-a507-0353e09f19dc",
   "metadata": {
    "tags": []
   },
   "outputs": [
    {
     "data": {
      "text/plain": [
       "array([[0.87117797, 0.12882203],\n",
       "       [0.89899728, 0.10100272],\n",
       "       [0.95622188, 0.04377812],\n",
       "       ...,\n",
       "       [0.92736281, 0.07263719],\n",
       "       [0.93706176, 0.06293824],\n",
       "       [0.95723104, 0.04276896]])"
      ]
     },
     "execution_count": 156,
     "metadata": {},
     "output_type": "execute_result"
    }
   ],
   "source": [
    "lr.predict_proba(X_valid)"
   ]
  },
  {
   "cell_type": "code",
   "execution_count": 157,
   "id": "6afb9da5-7d50-4661-a2e4-5191f4c6ac2b",
   "metadata": {
    "tags": []
   },
   "outputs": [
    {
     "data": {
      "text/html": [
       "<div>\n",
       "<style scoped>\n",
       "    .dataframe tbody tr th:only-of-type {\n",
       "        vertical-align: middle;\n",
       "    }\n",
       "\n",
       "    .dataframe tbody tr th {\n",
       "        vertical-align: top;\n",
       "    }\n",
       "\n",
       "    .dataframe thead th {\n",
       "        text-align: right;\n",
       "    }\n",
       "</style>\n",
       "<table border=\"1\" class=\"dataframe\">\n",
       "  <thead>\n",
       "    <tr style=\"text-align: right;\">\n",
       "      <th></th>\n",
       "      <th>Id</th>\n",
       "      <th>Date</th>\n",
       "      <th>Address</th>\n",
       "      <th>Species</th>\n",
       "      <th>Block</th>\n",
       "      <th>Street</th>\n",
       "      <th>Trap</th>\n",
       "      <th>AddressNumberAndStreet</th>\n",
       "      <th>Latitude</th>\n",
       "      <th>Longitude</th>\n",
       "      <th>AddressAccuracy</th>\n",
       "    </tr>\n",
       "  </thead>\n",
       "  <tbody>\n",
       "    <tr>\n",
       "      <th>0</th>\n",
       "      <td>1</td>\n",
       "      <td>2008-06-11</td>\n",
       "      <td>4100 North Oak Park Avenue, Chicago, IL 60634,...</td>\n",
       "      <td>CULEX PIPIENS/RESTUANS</td>\n",
       "      <td>41</td>\n",
       "      <td>N OAK PARK AVE</td>\n",
       "      <td>T002</td>\n",
       "      <td>4100  N OAK PARK AVE, Chicago, IL</td>\n",
       "      <td>41.95469</td>\n",
       "      <td>-87.800991</td>\n",
       "      <td>9</td>\n",
       "    </tr>\n",
       "    <tr>\n",
       "      <th>1</th>\n",
       "      <td>2</td>\n",
       "      <td>2008-06-11</td>\n",
       "      <td>4100 North Oak Park Avenue, Chicago, IL 60634,...</td>\n",
       "      <td>CULEX RESTUANS</td>\n",
       "      <td>41</td>\n",
       "      <td>N OAK PARK AVE</td>\n",
       "      <td>T002</td>\n",
       "      <td>4100  N OAK PARK AVE, Chicago, IL</td>\n",
       "      <td>41.95469</td>\n",
       "      <td>-87.800991</td>\n",
       "      <td>9</td>\n",
       "    </tr>\n",
       "    <tr>\n",
       "      <th>2</th>\n",
       "      <td>3</td>\n",
       "      <td>2008-06-11</td>\n",
       "      <td>4100 North Oak Park Avenue, Chicago, IL 60634,...</td>\n",
       "      <td>CULEX PIPIENS</td>\n",
       "      <td>41</td>\n",
       "      <td>N OAK PARK AVE</td>\n",
       "      <td>T002</td>\n",
       "      <td>4100  N OAK PARK AVE, Chicago, IL</td>\n",
       "      <td>41.95469</td>\n",
       "      <td>-87.800991</td>\n",
       "      <td>9</td>\n",
       "    </tr>\n",
       "  </tbody>\n",
       "</table>\n",
       "</div>"
      ],
      "text/plain": [
       "   Id        Date                                            Address  \\\n",
       "0   1  2008-06-11  4100 North Oak Park Avenue, Chicago, IL 60634,...   \n",
       "1   2  2008-06-11  4100 North Oak Park Avenue, Chicago, IL 60634,...   \n",
       "2   3  2008-06-11  4100 North Oak Park Avenue, Chicago, IL 60634,...   \n",
       "\n",
       "                  Species  Block           Street  Trap  \\\n",
       "0  CULEX PIPIENS/RESTUANS     41   N OAK PARK AVE  T002   \n",
       "1          CULEX RESTUANS     41   N OAK PARK AVE  T002   \n",
       "2           CULEX PIPIENS     41   N OAK PARK AVE  T002   \n",
       "\n",
       "              AddressNumberAndStreet  Latitude  Longitude  AddressAccuracy  \n",
       "0  4100  N OAK PARK AVE, Chicago, IL  41.95469 -87.800991                9  \n",
       "1  4100  N OAK PARK AVE, Chicago, IL  41.95469 -87.800991                9  \n",
       "2  4100  N OAK PARK AVE, Chicago, IL  41.95469 -87.800991                9  "
      ]
     },
     "execution_count": 157,
     "metadata": {},
     "output_type": "execute_result"
    }
   ],
   "source": [
    "testdf.head(3)"
   ]
  },
  {
   "cell_type": "code",
   "execution_count": 158,
   "id": "e9f61bab-5944-4a42-aaa1-49aa04f21ffc",
   "metadata": {
    "tags": []
   },
   "outputs": [],
   "source": [
    "testdf['Date'] = pd.to_datetime(testdf['Date'])\n",
    "testdf.set_index('Date', inplace=True)"
   ]
  },
  {
   "cell_type": "code",
   "execution_count": 159,
   "id": "27e9bb25-e79e-4c58-b4d7-86edf06bf656",
   "metadata": {
    "tags": []
   },
   "outputs": [
    {
     "data": {
      "text/html": [
       "<div>\n",
       "<style scoped>\n",
       "    .dataframe tbody tr th:only-of-type {\n",
       "        vertical-align: middle;\n",
       "    }\n",
       "\n",
       "    .dataframe tbody tr th {\n",
       "        vertical-align: top;\n",
       "    }\n",
       "\n",
       "    .dataframe thead th {\n",
       "        text-align: right;\n",
       "    }\n",
       "</style>\n",
       "<table border=\"1\" class=\"dataframe\">\n",
       "  <thead>\n",
       "    <tr style=\"text-align: right;\">\n",
       "      <th></th>\n",
       "      <th>Id</th>\n",
       "      <th>Address</th>\n",
       "      <th>Species</th>\n",
       "      <th>Block</th>\n",
       "      <th>Street</th>\n",
       "      <th>Trap</th>\n",
       "      <th>AddressNumberAndStreet</th>\n",
       "      <th>Latitude</th>\n",
       "      <th>Longitude</th>\n",
       "      <th>AddressAccuracy</th>\n",
       "    </tr>\n",
       "    <tr>\n",
       "      <th>Date</th>\n",
       "      <th></th>\n",
       "      <th></th>\n",
       "      <th></th>\n",
       "      <th></th>\n",
       "      <th></th>\n",
       "      <th></th>\n",
       "      <th></th>\n",
       "      <th></th>\n",
       "      <th></th>\n",
       "      <th></th>\n",
       "    </tr>\n",
       "  </thead>\n",
       "  <tbody>\n",
       "    <tr>\n",
       "      <th>2008-06-11</th>\n",
       "      <td>1</td>\n",
       "      <td>4100 North Oak Park Avenue, Chicago, IL 60634,...</td>\n",
       "      <td>CULEX PIPIENS/RESTUANS</td>\n",
       "      <td>41</td>\n",
       "      <td>N OAK PARK AVE</td>\n",
       "      <td>T002</td>\n",
       "      <td>4100  N OAK PARK AVE, Chicago, IL</td>\n",
       "      <td>41.95469</td>\n",
       "      <td>-87.800991</td>\n",
       "      <td>9</td>\n",
       "    </tr>\n",
       "    <tr>\n",
       "      <th>2008-06-11</th>\n",
       "      <td>2</td>\n",
       "      <td>4100 North Oak Park Avenue, Chicago, IL 60634,...</td>\n",
       "      <td>CULEX RESTUANS</td>\n",
       "      <td>41</td>\n",
       "      <td>N OAK PARK AVE</td>\n",
       "      <td>T002</td>\n",
       "      <td>4100  N OAK PARK AVE, Chicago, IL</td>\n",
       "      <td>41.95469</td>\n",
       "      <td>-87.800991</td>\n",
       "      <td>9</td>\n",
       "    </tr>\n",
       "    <tr>\n",
       "      <th>2008-06-11</th>\n",
       "      <td>3</td>\n",
       "      <td>4100 North Oak Park Avenue, Chicago, IL 60634,...</td>\n",
       "      <td>CULEX PIPIENS</td>\n",
       "      <td>41</td>\n",
       "      <td>N OAK PARK AVE</td>\n",
       "      <td>T002</td>\n",
       "      <td>4100  N OAK PARK AVE, Chicago, IL</td>\n",
       "      <td>41.95469</td>\n",
       "      <td>-87.800991</td>\n",
       "      <td>9</td>\n",
       "    </tr>\n",
       "  </tbody>\n",
       "</table>\n",
       "</div>"
      ],
      "text/plain": [
       "            Id                                            Address  \\\n",
       "Date                                                                \n",
       "2008-06-11   1  4100 North Oak Park Avenue, Chicago, IL 60634,...   \n",
       "2008-06-11   2  4100 North Oak Park Avenue, Chicago, IL 60634,...   \n",
       "2008-06-11   3  4100 North Oak Park Avenue, Chicago, IL 60634,...   \n",
       "\n",
       "                           Species  Block           Street  Trap  \\\n",
       "Date                                                               \n",
       "2008-06-11  CULEX PIPIENS/RESTUANS     41   N OAK PARK AVE  T002   \n",
       "2008-06-11          CULEX RESTUANS     41   N OAK PARK AVE  T002   \n",
       "2008-06-11           CULEX PIPIENS     41   N OAK PARK AVE  T002   \n",
       "\n",
       "                       AddressNumberAndStreet  Latitude  Longitude  \\\n",
       "Date                                                                 \n",
       "2008-06-11  4100  N OAK PARK AVE, Chicago, IL  41.95469 -87.800991   \n",
       "2008-06-11  4100  N OAK PARK AVE, Chicago, IL  41.95469 -87.800991   \n",
       "2008-06-11  4100  N OAK PARK AVE, Chicago, IL  41.95469 -87.800991   \n",
       "\n",
       "            AddressAccuracy  \n",
       "Date                         \n",
       "2008-06-11                9  \n",
       "2008-06-11                9  \n",
       "2008-06-11                9  "
      ]
     },
     "execution_count": 159,
     "metadata": {},
     "output_type": "execute_result"
    }
   ],
   "source": [
    "testdf.head(3)"
   ]
  },
  {
   "cell_type": "code",
   "execution_count": 160,
   "id": "faf5c896-35cf-47de-8ec8-bd03e6adcc6d",
   "metadata": {
    "tags": []
   },
   "outputs": [],
   "source": [
    "weather1 = weatherdf[weatherdf.Station ==1].copy()"
   ]
  },
  {
   "cell_type": "code",
   "execution_count": 161,
   "id": "2838ab84-32cf-4bfe-8a23-3105d3a4da18",
   "metadata": {
    "tags": []
   },
   "outputs": [],
   "source": [
    "#merging train and weather data.\n",
    "test = testdf.join(weather1, how='left')\n",
    "test.replace('M',np.NaN,inplace=True)\n",
    "test.replace('-',np.NaN,inplace=True)\n",
    "test.replace('  T', 1,inplace=True)"
   ]
  },
  {
   "cell_type": "code",
   "execution_count": 162,
   "id": "8ec61d75-f00d-40d1-aad0-e9a6f2837673",
   "metadata": {
    "tags": []
   },
   "outputs": [
    {
     "data": {
      "text/html": [
       "<div>\n",
       "<style scoped>\n",
       "    .dataframe tbody tr th:only-of-type {\n",
       "        vertical-align: middle;\n",
       "    }\n",
       "\n",
       "    .dataframe tbody tr th {\n",
       "        vertical-align: top;\n",
       "    }\n",
       "\n",
       "    .dataframe thead th {\n",
       "        text-align: right;\n",
       "    }\n",
       "</style>\n",
       "<table border=\"1\" class=\"dataframe\">\n",
       "  <thead>\n",
       "    <tr style=\"text-align: right;\">\n",
       "      <th></th>\n",
       "      <th>Id</th>\n",
       "      <th>Address</th>\n",
       "      <th>Species</th>\n",
       "      <th>Block</th>\n",
       "      <th>Street</th>\n",
       "      <th>Trap</th>\n",
       "      <th>AddressNumberAndStreet</th>\n",
       "      <th>Latitude</th>\n",
       "      <th>Longitude</th>\n",
       "      <th>AddressAccuracy</th>\n",
       "      <th>...</th>\n",
       "      <th>CodeSum</th>\n",
       "      <th>Depth</th>\n",
       "      <th>Water1</th>\n",
       "      <th>SnowFall</th>\n",
       "      <th>PrecipTotal</th>\n",
       "      <th>StnPressure</th>\n",
       "      <th>SeaLevel</th>\n",
       "      <th>ResultSpeed</th>\n",
       "      <th>ResultDir</th>\n",
       "      <th>AvgSpeed</th>\n",
       "    </tr>\n",
       "    <tr>\n",
       "      <th>Date</th>\n",
       "      <th></th>\n",
       "      <th></th>\n",
       "      <th></th>\n",
       "      <th></th>\n",
       "      <th></th>\n",
       "      <th></th>\n",
       "      <th></th>\n",
       "      <th></th>\n",
       "      <th></th>\n",
       "      <th></th>\n",
       "      <th></th>\n",
       "      <th></th>\n",
       "      <th></th>\n",
       "      <th></th>\n",
       "      <th></th>\n",
       "      <th></th>\n",
       "      <th></th>\n",
       "      <th></th>\n",
       "      <th></th>\n",
       "      <th></th>\n",
       "      <th></th>\n",
       "    </tr>\n",
       "  </thead>\n",
       "  <tbody>\n",
       "    <tr>\n",
       "      <th>2008-06-11</th>\n",
       "      <td>1</td>\n",
       "      <td>4100 North Oak Park Avenue, Chicago, IL 60634,...</td>\n",
       "      <td>CULEX PIPIENS/RESTUANS</td>\n",
       "      <td>41</td>\n",
       "      <td>N OAK PARK AVE</td>\n",
       "      <td>T002</td>\n",
       "      <td>4100  N OAK PARK AVE, Chicago, IL</td>\n",
       "      <td>41.95469</td>\n",
       "      <td>-87.800991</td>\n",
       "      <td>9</td>\n",
       "      <td>...</td>\n",
       "      <td></td>\n",
       "      <td>0</td>\n",
       "      <td>NaN</td>\n",
       "      <td>0.0</td>\n",
       "      <td>0.00</td>\n",
       "      <td>29.28</td>\n",
       "      <td>29.99</td>\n",
       "      <td>8.9</td>\n",
       "      <td>18</td>\n",
       "      <td>10.0</td>\n",
       "    </tr>\n",
       "    <tr>\n",
       "      <th>2008-06-11</th>\n",
       "      <td>2</td>\n",
       "      <td>4100 North Oak Park Avenue, Chicago, IL 60634,...</td>\n",
       "      <td>CULEX RESTUANS</td>\n",
       "      <td>41</td>\n",
       "      <td>N OAK PARK AVE</td>\n",
       "      <td>T002</td>\n",
       "      <td>4100  N OAK PARK AVE, Chicago, IL</td>\n",
       "      <td>41.95469</td>\n",
       "      <td>-87.800991</td>\n",
       "      <td>9</td>\n",
       "      <td>...</td>\n",
       "      <td></td>\n",
       "      <td>0</td>\n",
       "      <td>NaN</td>\n",
       "      <td>0.0</td>\n",
       "      <td>0.00</td>\n",
       "      <td>29.28</td>\n",
       "      <td>29.99</td>\n",
       "      <td>8.9</td>\n",
       "      <td>18</td>\n",
       "      <td>10.0</td>\n",
       "    </tr>\n",
       "    <tr>\n",
       "      <th>2008-06-11</th>\n",
       "      <td>3</td>\n",
       "      <td>4100 North Oak Park Avenue, Chicago, IL 60634,...</td>\n",
       "      <td>CULEX PIPIENS</td>\n",
       "      <td>41</td>\n",
       "      <td>N OAK PARK AVE</td>\n",
       "      <td>T002</td>\n",
       "      <td>4100  N OAK PARK AVE, Chicago, IL</td>\n",
       "      <td>41.95469</td>\n",
       "      <td>-87.800991</td>\n",
       "      <td>9</td>\n",
       "      <td>...</td>\n",
       "      <td></td>\n",
       "      <td>0</td>\n",
       "      <td>NaN</td>\n",
       "      <td>0.0</td>\n",
       "      <td>0.00</td>\n",
       "      <td>29.28</td>\n",
       "      <td>29.99</td>\n",
       "      <td>8.9</td>\n",
       "      <td>18</td>\n",
       "      <td>10.0</td>\n",
       "    </tr>\n",
       "  </tbody>\n",
       "</table>\n",
       "<p>3 rows × 31 columns</p>\n",
       "</div>"
      ],
      "text/plain": [
       "            Id                                            Address  \\\n",
       "Date                                                                \n",
       "2008-06-11   1  4100 North Oak Park Avenue, Chicago, IL 60634,...   \n",
       "2008-06-11   2  4100 North Oak Park Avenue, Chicago, IL 60634,...   \n",
       "2008-06-11   3  4100 North Oak Park Avenue, Chicago, IL 60634,...   \n",
       "\n",
       "                           Species  Block           Street  Trap  \\\n",
       "Date                                                               \n",
       "2008-06-11  CULEX PIPIENS/RESTUANS     41   N OAK PARK AVE  T002   \n",
       "2008-06-11          CULEX RESTUANS     41   N OAK PARK AVE  T002   \n",
       "2008-06-11           CULEX PIPIENS     41   N OAK PARK AVE  T002   \n",
       "\n",
       "                       AddressNumberAndStreet  Latitude  Longitude  \\\n",
       "Date                                                                 \n",
       "2008-06-11  4100  N OAK PARK AVE, Chicago, IL  41.95469 -87.800991   \n",
       "2008-06-11  4100  N OAK PARK AVE, Chicago, IL  41.95469 -87.800991   \n",
       "2008-06-11  4100  N OAK PARK AVE, Chicago, IL  41.95469 -87.800991   \n",
       "\n",
       "            AddressAccuracy  ...  CodeSum  Depth  Water1 SnowFall PrecipTotal  \\\n",
       "Date                         ...                                                \n",
       "2008-06-11                9  ...               0     NaN      0.0        0.00   \n",
       "2008-06-11                9  ...               0     NaN      0.0        0.00   \n",
       "2008-06-11                9  ...               0     NaN      0.0        0.00   \n",
       "\n",
       "            StnPressure SeaLevel ResultSpeed ResultDir AvgSpeed  \n",
       "Date                                                             \n",
       "2008-06-11        29.28    29.99         8.9        18     10.0  \n",
       "2008-06-11        29.28    29.99         8.9        18     10.0  \n",
       "2008-06-11        29.28    29.99         8.9        18     10.0  \n",
       "\n",
       "[3 rows x 31 columns]"
      ]
     },
     "execution_count": 162,
     "metadata": {},
     "output_type": "execute_result"
    }
   ],
   "source": [
    "test.head(3)"
   ]
  },
  {
   "cell_type": "code",
   "execution_count": 163,
   "id": "2d521ce4-8b39-491a-b697-9099cc60bfde",
   "metadata": {
    "tags": []
   },
   "outputs": [
    {
     "name": "stderr",
     "output_type": "stream",
     "text": [
      "/var/folders/yq/ln25zktd7l51hrfl56g5fvl00000gn/T/ipykernel_33570/3947352977.py:4: SettingWithCopyWarning: \n",
      "A value is trying to be set on a copy of a slice from a DataFrame\n",
      "\n",
      "See the caveats in the documentation: https://pandas.pydata.org/pandas-docs/stable/user_guide/indexing.html#returning-a-view-versus-a-copy\n",
      "  test['Address'][i] = match.group(0)\n"
     ]
    }
   ],
   "source": [
    "for i in range(len(test['Address'])):\n",
    "    match = re.search(r\"\\b\\d{5}(?:[-\\s]\\d{4})?\\b\", test['Address'][i])\n",
    "    if match:\n",
    "        test['Address'][i] = match.group(0)"
   ]
  },
  {
   "cell_type": "code",
   "execution_count": 164,
   "id": "d87aa9a7-5ee0-42f7-a254-945e9e0f3859",
   "metadata": {
    "tags": []
   },
   "outputs": [],
   "source": [
    "test.drop(columns=['Depart','Sunrise','Sunset','Depth','Water1','SnowFall'],inplace=True)"
   ]
  },
  {
   "cell_type": "code",
   "execution_count": 165,
   "id": "29343553-9965-476f-bd62-17933a0c5800",
   "metadata": {
    "tags": []
   },
   "outputs": [],
   "source": [
    "test.drop(columns=['Street','Trap','AddressNumberAndStreet','Latitude','Longitude',\n",
    "                    'Tavg','WetBulb','Cool','CodeSum','PrecipTotal','StnPressure','SeaLevel','ResultSpeed','AvgSpeed'],inplace=True)"
   ]
  },
  {
   "cell_type": "code",
   "execution_count": 166,
   "id": "b538a537-340d-4bb7-935f-b30702c662aa",
   "metadata": {
    "tags": []
   },
   "outputs": [
    {
     "data": {
      "text/html": [
       "<div>\n",
       "<style scoped>\n",
       "    .dataframe tbody tr th:only-of-type {\n",
       "        vertical-align: middle;\n",
       "    }\n",
       "\n",
       "    .dataframe tbody tr th {\n",
       "        vertical-align: top;\n",
       "    }\n",
       "\n",
       "    .dataframe thead th {\n",
       "        text-align: right;\n",
       "    }\n",
       "</style>\n",
       "<table border=\"1\" class=\"dataframe\">\n",
       "  <thead>\n",
       "    <tr style=\"text-align: right;\">\n",
       "      <th></th>\n",
       "      <th>Id</th>\n",
       "      <th>Address</th>\n",
       "      <th>Species</th>\n",
       "      <th>Block</th>\n",
       "      <th>AddressAccuracy</th>\n",
       "      <th>Station</th>\n",
       "      <th>Tmax</th>\n",
       "      <th>Tmin</th>\n",
       "      <th>DewPoint</th>\n",
       "      <th>Heat</th>\n",
       "      <th>ResultDir</th>\n",
       "    </tr>\n",
       "    <tr>\n",
       "      <th>Date</th>\n",
       "      <th></th>\n",
       "      <th></th>\n",
       "      <th></th>\n",
       "      <th></th>\n",
       "      <th></th>\n",
       "      <th></th>\n",
       "      <th></th>\n",
       "      <th></th>\n",
       "      <th></th>\n",
       "      <th></th>\n",
       "      <th></th>\n",
       "    </tr>\n",
       "  </thead>\n",
       "  <tbody>\n",
       "    <tr>\n",
       "      <th>2008-06-11</th>\n",
       "      <td>1</td>\n",
       "      <td>60634</td>\n",
       "      <td>CULEX PIPIENS/RESTUANS</td>\n",
       "      <td>41</td>\n",
       "      <td>9</td>\n",
       "      <td>1</td>\n",
       "      <td>86</td>\n",
       "      <td>61</td>\n",
       "      <td>56</td>\n",
       "      <td>0</td>\n",
       "      <td>18</td>\n",
       "    </tr>\n",
       "    <tr>\n",
       "      <th>2008-06-11</th>\n",
       "      <td>2</td>\n",
       "      <td>60634</td>\n",
       "      <td>CULEX RESTUANS</td>\n",
       "      <td>41</td>\n",
       "      <td>9</td>\n",
       "      <td>1</td>\n",
       "      <td>86</td>\n",
       "      <td>61</td>\n",
       "      <td>56</td>\n",
       "      <td>0</td>\n",
       "      <td>18</td>\n",
       "    </tr>\n",
       "    <tr>\n",
       "      <th>2008-06-11</th>\n",
       "      <td>3</td>\n",
       "      <td>60634</td>\n",
       "      <td>CULEX PIPIENS</td>\n",
       "      <td>41</td>\n",
       "      <td>9</td>\n",
       "      <td>1</td>\n",
       "      <td>86</td>\n",
       "      <td>61</td>\n",
       "      <td>56</td>\n",
       "      <td>0</td>\n",
       "      <td>18</td>\n",
       "    </tr>\n",
       "  </tbody>\n",
       "</table>\n",
       "</div>"
      ],
      "text/plain": [
       "            Id Address                 Species  Block  AddressAccuracy  \\\n",
       "Date                                                                     \n",
       "2008-06-11   1   60634  CULEX PIPIENS/RESTUANS     41                9   \n",
       "2008-06-11   2   60634          CULEX RESTUANS     41                9   \n",
       "2008-06-11   3   60634           CULEX PIPIENS     41                9   \n",
       "\n",
       "            Station  Tmax  Tmin  DewPoint Heat  ResultDir  \n",
       "Date                                                       \n",
       "2008-06-11        1    86    61        56    0         18  \n",
       "2008-06-11        1    86    61        56    0         18  \n",
       "2008-06-11        1    86    61        56    0         18  "
      ]
     },
     "execution_count": 166,
     "metadata": {},
     "output_type": "execute_result"
    }
   ],
   "source": [
    "test.head(3)"
   ]
  },
  {
   "cell_type": "code",
   "execution_count": 167,
   "id": "2b0fdb84-9efe-49dc-a93c-75d832117797",
   "metadata": {
    "tags": []
   },
   "outputs": [],
   "source": [
    "#Dummify\n",
    "expected_dummy_features = ['Species','Address'] #dummify features\n",
    "test = pd.get_dummies(test,columns=expected_dummy_features, drop_first=True)"
   ]
  },
  {
   "cell_type": "code",
   "execution_count": 168,
   "id": "00734157-1407-4a86-a65f-a41b335b4fa2",
   "metadata": {
    "tags": []
   },
   "outputs": [],
   "source": [
    "Features = [col for col in train._get_numeric_data().columns if col not in ['WnvPresent','NumMosquitos']]"
   ]
  },
  {
   "cell_type": "code",
   "execution_count": 169,
   "id": "868193f1-38b7-4d4e-a786-57e26210ddbb",
   "metadata": {
    "tags": []
   },
   "outputs": [],
   "source": [
    "X_test = test[Features] #Define X as text"
   ]
  },
  {
   "cell_type": "code",
   "execution_count": 170,
   "id": "dcc41eee-12a8-411d-8107-3f82c4c00914",
   "metadata": {
    "tags": []
   },
   "outputs": [
    {
     "data": {
      "text/plain": [
       "array([[0.93644669, 0.06355331],\n",
       "       [0.9815252 , 0.0184748 ],\n",
       "       [0.91141946, 0.08858054],\n",
       "       ...,\n",
       "       [0.97024029, 0.02975971],\n",
       "       [0.96704643, 0.03295357],\n",
       "       [0.96704643, 0.03295357]])"
      ]
     },
     "execution_count": 170,
     "metadata": {},
     "output_type": "execute_result"
    }
   ],
   "source": [
    "lr.predict_proba(X_test)"
   ]
  },
  {
   "cell_type": "code",
   "execution_count": 171,
   "id": "cfd245a2-ee33-468f-9019-d844b991c845",
   "metadata": {
    "tags": []
   },
   "outputs": [
    {
     "data": {
      "text/html": [
       "<div>\n",
       "<style scoped>\n",
       "    .dataframe tbody tr th:only-of-type {\n",
       "        vertical-align: middle;\n",
       "    }\n",
       "\n",
       "    .dataframe tbody tr th {\n",
       "        vertical-align: top;\n",
       "    }\n",
       "\n",
       "    .dataframe thead th {\n",
       "        text-align: right;\n",
       "    }\n",
       "</style>\n",
       "<table border=\"1\" class=\"dataframe\">\n",
       "  <thead>\n",
       "    <tr style=\"text-align: right;\">\n",
       "      <th></th>\n",
       "      <th>Id</th>\n",
       "      <th>WnvPresent</th>\n",
       "    </tr>\n",
       "    <tr>\n",
       "      <th>Date</th>\n",
       "      <th></th>\n",
       "      <th></th>\n",
       "    </tr>\n",
       "  </thead>\n",
       "  <tbody>\n",
       "    <tr>\n",
       "      <th>2008-06-11</th>\n",
       "      <td>1</td>\n",
       "      <td>0.063553</td>\n",
       "    </tr>\n",
       "    <tr>\n",
       "      <th>2008-06-11</th>\n",
       "      <td>2</td>\n",
       "      <td>0.018475</td>\n",
       "    </tr>\n",
       "  </tbody>\n",
       "</table>\n",
       "</div>"
      ],
      "text/plain": [
       "            Id  WnvPresent\n",
       "Date                      \n",
       "2008-06-11   1    0.063553\n",
       "2008-06-11   2    0.018475"
      ]
     },
     "execution_count": 171,
     "metadata": {},
     "output_type": "execute_result"
    }
   ],
   "source": [
    "df_submit = pd.DataFrame(test, columns=['Id']) #create data frame with ids\n",
    "df_submit['WnvPresent'] = lr.predict_proba(X_test)[:,1] #add predicted price\n",
    "df_submit.head(2) #check"
   ]
  },
  {
   "cell_type": "code",
   "execution_count": 172,
   "id": "970cf2a0-dc8c-41e0-bcd6-293eb99c62d9",
   "metadata": {
    "tags": []
   },
   "outputs": [],
   "source": [
    "df_submit.to_csv('submission_model2.csv', index=False) #export"
   ]
  },
  {
   "cell_type": "code",
   "execution_count": null,
   "id": "610e4e5e-9263-46e1-958a-4619f336ed91",
   "metadata": {},
   "outputs": [],
   "source": []
  }
 ],
 "metadata": {
  "kernelspec": {
   "display_name": "Python 3 (ipykernel)",
   "language": "python",
   "name": "python3"
  },
  "language_info": {
   "codemirror_mode": {
    "name": "ipython",
    "version": 3
   },
   "file_extension": ".py",
   "mimetype": "text/x-python",
   "name": "python",
   "nbconvert_exporter": "python",
   "pygments_lexer": "ipython3",
   "version": "3.11.4"
  }
 },
 "nbformat": 4,
 "nbformat_minor": 5
}
